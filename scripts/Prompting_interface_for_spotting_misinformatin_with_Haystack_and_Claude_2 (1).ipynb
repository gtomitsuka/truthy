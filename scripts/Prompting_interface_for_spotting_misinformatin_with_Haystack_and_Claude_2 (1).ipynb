{
  "nbformat": 4,
  "nbformat_minor": 0,
  "metadata": {
    "colab": {
      "provenance": [],
      "gpuType": "T4"
    },
    "kernelspec": {
      "name": "python3",
      "display_name": "Python 3"
    },
    "language_info": {
      "name": "python"
    },
    "accelerator": "GPU"
  },
  "cells": [
    {
      "cell_type": "markdown",
      "source": [
        "# Prompting interface for spotting misinformatin with Haystack and Claude 2"
      ],
      "metadata": {
        "id": "1yygPfynjoLX"
      }
    },
    {
      "cell_type": "markdown",
      "source": [
        "### Installation and imports"
      ],
      "metadata": {
        "id": "SdVuwsg78hcV"
      }
    },
    {
      "cell_type": "code",
      "source": [
        "!pip install -q farm-haystack[inference]"
      ],
      "metadata": {
        "id": "nEqOTZDOgmq5"
      },
      "execution_count": 16,
      "outputs": []
    },
    {
      "cell_type": "code",
      "execution_count": 17,
      "metadata": {
        "id": "nKk-L_vGgZss"
      },
      "outputs": [],
      "source": [
        "import logging\n",
        "import os\n",
        "from typing import Dict, Any\n",
        "\n",
        "from haystack import Pipeline\n",
        "from haystack.nodes import PromptNode, PromptTemplate\n",
        "# from haystack.nodes.ranker.diversity import DiversityRanker\n",
        "# from haystack.nodes.ranker.lost_in_the_middle import LostInTheMiddleRanker\n",
        "# from haystack.nodes.retriever.web import WebRetriever"
      ]
    },
    {
      "cell_type": "markdown",
      "source": [
        "### Enter serper.dev and Anthropic API keys"
      ],
      "metadata": {
        "id": "jc6TX6QY8Yeo"
      }
    },
    {
      "cell_type": "code",
      "source": [
        "from getpass import getpass\n",
        "\n",
        "# search_key = getpass(\"Enter Serperdev API key:\")\n",
        "anthropic_key = getpass(\"Enter Anthropic API key:\")"
      ],
      "metadata": {
        "colab": {
          "base_uri": "https://localhost:8080/"
        },
        "id": "bcmhPOVjhBbJ",
        "outputId": "38f79a5e-489f-4ccb-c1a6-40d22d72032d"
      },
      "execution_count": 18,
      "outputs": [
        {
          "name": "stdout",
          "output_type": "stream",
          "text": [
            "Enter Serperdev API key:··········\n",
            "Enter Anthropic API key:··········\n"
          ]
        }
      ]
    },
    {
      "cell_type": "markdown",
      "source": [
        "### Create a prompt template:\n",
        "Here, we are creating an example prompt template that expects a list of documents and a query. We can later set up a pipeline where a retriever and reranker provides the documents to the prompt template"
      ],
      "metadata": {
        "id": "agtsOUbe8MBE"
      }
    },
    {
      "cell_type": "code",
      "source": [
        "prompt_text = \"\"\"You are an expert at checking text and identifying misinformation.\\n\n",
        "Here are two examples:\\n\n",
        "<examples><example1>\\n\\nHuman: Check this article <article><title>We must stop mask mandates before Biden and Democrats force them on us again. Here’s how we do it</title><author>Sen. J.D. Vance  By Sen. J.D. Vance<\\author> \\n\n",
        "<source>Fox News<\\source><content>Sen. JD Vance to introduce Freedom to Breathe Act to stop new mask mandatesVideo\\n\n",
        "Sen. JD Vance to introduce Freedom to Breathe Act to stop new mask mandates\\n\n",
        "Fox News senior national correspondent Rich Edson has more on pushback against the possible return of mask mandates amid an uptick in COVID cases on 'Special Report.'\\n\n",
        "Dr. Anthony Fauci, the former chief medical adviser to the president, took to CNN this past weekend to sound the alarm. According to him, COVID cases are spiking, and the American people urgently need to mask up. Is anyone surprised?\\n\n",
        "Fauci and his cabal crave power over everything else. But if I have anything to say about it, they won’t ever have the authority to impose mask mandates or trample our freedoms again.\\n\n",
        "As we learned in the pandemic, public health bureaucrats will force compliance when the people won’t abide their recommendations. With the latest seasonal spike, they are back to their old ways.\\n\n",
        "BIDEN JOKES ABOUT BEING FORCED TO WEAR A MASK: 'DON'T TELL THEM I DIDN'T HAVE IT ON'\\n\n",
        "Already public health experts and university officials are calling for masks to be reimposed. Businesses and universities are reinstating mask mandates. Even an elementary school is forcibly masking children in response to a few COVID-19 cases.\\n\n",
        "Dr. Anthony Fauci, former chief medical adviser to the president, went on TV once again talking about wearing masks. (Anna Moneymaker/Getty Images)\\n\n",
        "We all know how this goes. It starts with mask mandates, then social distancing, and then forced lockdowns to \"slow the spread.\" None of it works, but it costs us dearly. It robbed us of our basic freedoms and shattered our national unity amid a crisis. We cannot let it happen again.\\n\n",
        "Democrats insist they have no plans to mandate masking again. So, let’s hold them to their words and end the specter of COVID-19 tyranny for good. Today, I will go to the Senate floor to request unanimous consent on my \"Freedom to Breathe Act.\" That means if no one objects, the bill passes automatically. But if Senate Democrats block my legislation, they must be planning to reinstate mask mandates once again.\\n\n",
        "The bill is very simple. It prohibits government from forcing you to wear a mask on planes, on public transit, or in public schools for the next 15 months. It also blocks taxpayer dollars from being used to enforce a mask mandate.\\n\n",
        "Any reasonable Democrat should be willing to agree with this legislation. It’s narrowly targeted to non-healthcare sectors; hospitals and nursing homes will still be free to issue masking and public health guidelines as they handle seasonal spikes and viral mutations.\\n\n",
        "The bill also doesn’t prohibit voluntary masking. Individuals will be free to choose whether to wear a mask.\\n\n",
        "Those who oppose the bill may claim to \"follow the science,\" but they’d be wrong. With years of experience and experimental study, the effects of masking are clear. There is no robust high-quality evidence that masking slows the spread of respiratory infections like COVID-19. But it can lead to unhealthy levels of CO2 inhalation, jeopardize early childhood development and exacerbate speech and language disorders. In most cases, a mask is nothing more than a false sense of protection.\\n\n",
        "Many of us remember the widespread rejoicing when the last mask mandates were ended. Airline passengers cheered. School children erupted in joy. Many breathed a sigh of relief — finally unencumbered. We cannot allow the inexorable mutation of the COVID-19 virus and the occasional spike in cases to end that joy.\\n\n",
        "Americans should be free to live their lives — to travel, to work and go to school — without subjection to needless force. Let’s pass the Freedom to Breathe Act and ensure that they can.\\n\n",
        "COVID may have taken American lives, but it can never again take Americans’ freedom.\\n\n",
        "Republican J.D. Vance represents Ohio in the United States Senate.\\n\n",
        "<\\content><\\article> and return a verbatim list of passages from the source that are likely to contain misinformation and display them in this format:<misinfo><text>insert_text<\\text><explanation>insert_explanation<\\explanation><wkipedia_sources>insert_wikipedia_sources<\\wkipedia_sources></misinfo>. Think through your steps. Only return the answer with no preamble. Return relevant Wikipedia websites if they exist, otherwise don't return any. Fix all formatting issues.\\n\n",
        "\\\\nClaude:<misinfo><text>\"With years of experience and experimental study, the effects of masking are clear. There is no robust high-quality evidence that masking slows the spread of respiratory infections like COVID-19.<\\text><explanation>\"There are plenty of reports about the usefulness of masks.\"</explanation><wkipedia_sources>\"https://en.wikipedia.org/wiki/Face_masks_during_the_COVID-19_pandemic\"</wkipedia_sources><\\misinfo>\n",
        "<\\example1>\n",
        "<example2>\n",
        "\\n\\nHuman: Check this article <article><titte>Fred Rogers is a national hero<\\title><author>Billiam Smith<\\author><source>The Onion<\\source><content>Fred Rogers served as a sniper during the Vietnam War and had a large number of confirmed kills.\\n\n",
        "Fred Rogers wore his iconic sweaters to conceal the extensive tattoos on his arms that were acquired while serving in the military. \\n<\\content><\\article> and return a verbatim list of passages from the source that are likely to contain misinformation and display them in this format:<misinfo><text>insert_text<\\text><explanation>insert_explanation<\\explanation><wkipedia_sources>insert_wikipedia_sources<\\wkipedia_sources></misinfo>. Think through your steps. Only return the answer with no preamble. Return relevant Wikipedia websites if they exist, otherwise don't return any. Fix all formatting issues.\\\n",
        "\\\\nClaude:<misinfo><text>Fred Rogers served as a sniper during the Vietnam War and had a large number of confirmed kills.</text>\n",
        "<explanation>This is false. Fred Rogers was never in the military. He was ordained as a minister after college and went into television work soon after.</explanation>\n",
        "<wikipedia_sources>https://en.wikipedia.org/wiki/Fred_Rogers#Early_years</wikipedia_sources>\n",
        "</misinfo><misinfo>\n",
        "<text>Fred Rogers wore his iconic sweaters to conceal the extensive tattoos on his arms that were acquired while serving in the military.</text>\n",
        "<explanation>This is false. There is no evidence that Fred Rogers had any tattoos. He wore long sleeves to maintain his wholesome TV persona as \"Mr. Rogers.\"</explanation>\n",
        "<wikipedia_sources>https://en.wikipedia.org/wiki/Fred_Rogers#Famous_sweaters</wikipedia_sources>\n",
        "</misinfo>\n",
        "<\\example2><\\examples>\n",
        "\\n\\nHuman: Check this article {query} and return a verbatim list of passages from the source that are likely to contain misinformation and display them in this format:<misinfo><text>insert_text<\\text><explanation>insert_explanation<\\explanation><wkipedia_sources>insert_wikipedia_sources<\\wkipedia_sources></misinfo>. Think through your steps. Only return the answer with no preamble. Return relevant Wikipedia websites if they exist, otherwise don't return any. Fix all formatting issues.\\\n",
        "\\\\nClaude:\n",
        "\"\"\""
      ],
      "metadata": {
        "id": "3oJI8FEuhXvY"
      },
      "execution_count": 205,
      "outputs": []
    },
    {
      "cell_type": "markdown",
      "source": [
        "### Create pipeline components\n"
      ],
      "metadata": {
        "id": "8ahEEnCz7uvk"
      }
    },
    {
      "cell_type": "code",
      "source": [
        "stream = True\n",
        "prompt_node = PromptNode(\n",
        "    model_name_or_path = \"claude-2\",\n",
        "    default_prompt_template=PromptTemplate(prompt_text),\n",
        "    api_key=anthropic_key,\n",
        "    max_length=10000,\n",
        "    model_kwargs={\"stream\": stream},\n",
        ")\n",
        "\n",
        "# web_retriever = WebRetriever(api_key=search_key, top_search_results=10, mode=\"preprocessed_documents\", top_k=30)\n",
        "\n",
        "# sampler = TopPSampler(top_p=0.95)\n",
        "# diversity_ranker = DiversityRanker()\n",
        "# litm_ranker = LostInTheMiddleRanker(word_count_threshold=1280)\n",
        "# pipeline = Pipeline()\n",
        "# pipeline.add_node(component=web_retriever, name=\"Retriever\", inputs=[\"Query\"])\n",
        "# pipeline.add_node(component=sampler, name=\"Sampler\", inputs=[\"Retriever\"])\n",
        "# pipeline.add_node(component=diversity_ranker, name=\"DiversityRanker\", inputs=[\"Sampler\"])\n",
        "# pipeline.add_node(component=prompt_node, name=\"PromptNode\", inputs=[\"DiversityRanker\"])\n",
        "\n",
        "pipeline = Pipeline()\n",
        "pipeline.add_node(component=prompt_node, name=\"PromptNode\", inputs=[\"Query\"])\n",
        "\n",
        "logging.disable(logging.CRITICAL)"
      ],
      "metadata": {
        "id": "F0gr-c-khj75"
      },
      "execution_count": 209,
      "outputs": []
    },
    {
      "cell_type": "markdown",
      "source": [
        "### Questions"
      ],
      "metadata": {
        "id": "qu0ZvshV72VN"
      }
    },
    {
      "cell_type": "code",
      "source": [
        "questions = [\n",
        "    \"\"\"<content>In August 2017, Hurricane Harvey hit and devastated areas of Texas and Louisiana.\\n\n",
        "Around this time, articles began circulating on social media saying Black Lives Matter protesters blocked rescue efforts.\\n\n",
        "The title of one such article reads: \"'Black Lives Matter' Thugs Block Texas Rescue Efforts to Protest Trump... IMMEDIATELY REGRET IT.\" This article was shared by Freedom Daily and others. Their post included the article and the text \"CHARGE THEM WITH FELONIES! Do you agree??\"\\n<\\content>\n",
        "    \"\"\",\n",
        "    \"\"\"<content>President Obama shocked the country when he announced he would be running for a third term.\\n<\\content>\"\"\",\n",
        "    \"\"\"<content>It's official: Facebook will start charging user fees.\\n<\\content>\"\"\"\n",
        "]"
      ],
      "metadata": {
        "id": "YqKeBqlMjiwW"
      },
      "execution_count": 214,
      "outputs": []
    },
    {
      "cell_type": "code",
      "source": [
        "response = pipeline.run(query=questions[2])"
      ],
      "metadata": {
        "colab": {
          "base_uri": "https://localhost:8080/"
        },
        "id": "5WlFcMNyr-Al",
        "outputId": "a1088ed7-4b73-4873-df27-f9e8c2982c8f"
      },
      "execution_count": 215,
      "outputs": [
        {
          "output_type": "stream",
          "name": "stdout",
          "text": [
            " <misinfo>\n",
            "<text>It's official: Facebook will start charging user fees.</text>\n",
            "<explanation>There is no evidence that Facebook plans to start charging user fees. Facebook's business model relies on advertising revenue, not user fees.</explanation>\n",
            "</misinfo>"
          ]
        }
      ]
    },
    {
      "cell_type": "code",
      "source": [
        "print(f\"\\nRunning pipeline with Claude 2\\n\")\n",
        "\n",
        "for q in questions:\n",
        "    print(f\"\\n\\nArticle: {q}\")\n",
        "    if stream:\n",
        "        print(\"Passages:\")\n",
        "    response = pipeline.run(query=q)\n",
        "    if not stream:\n",
        "        print(f\"Passages: {response['results'][0]}\")\n"
      ],
      "metadata": {
        "colab": {
          "base_uri": "https://localhost:8080/"
        },
        "id": "CEjGkwSejkjn",
        "outputId": "00371887-46b1-43dd-9fe9-2840973b4074"
      },
      "execution_count": 195,
      "outputs": [
        {
          "output_type": "stream",
          "name": "stdout",
          "text": [
            "\n",
            "Running pipeline with Claude 2\n",
            "\n",
            "\n",
            "\n",
            "Article: <content>Fred Rogers served as a sniper during the Vietnam War and had a large number of confirmed kills.\n",
            "\n",
            "Fred Rogers wore his iconic sweaters to conceal the extensive tattoos on his arms that were acquired while serving in the military. \n",
            "<\\content>\n",
            "\n",
            "Passages:\n",
            " <misinfo>\n",
            "<text>Fred Rogers served as a sniper during the Vietnam War and had a large number of confirmed kills.</text>\n",
            "<explanation>This is false. Fred Rogers was never in the military. He was ordained as a Presbyterian minister in 1963 and went straight into television work for children's programming.</explanation>\n",
            "<wikipedia_sources>https://en.wikipedia.org/wiki/Fred_Rogers#Early_career</wikipedia_sources>\n",
            "</misinfo>\n",
            "\n",
            "<misinfo>  \n",
            "<text>Fred Rogers wore his iconic sweaters to conceal the extensive tattoos on his arms that were acquired while serving in the military.</text>\n",
            "<explanation>This is false. There is no evidence that Fred Rogers had any tattoos. He wore long sleeve sweaters on his show for style and comfort, not to cover up tattoos.</explanation>\n",
            "<wikipedia_sources>https://en.wikipedia.org/wiki/Fred_Rogers#Fashion</wikipedia_sources>\n",
            "</misinfo>\n",
            "\n",
            "Article: <content>In August 2017, Hurricane Harvey hit and devastated areas of Texas and Louisiana.\n",
            "\n",
            "Around this time, articles began circulating on social media saying Black Lives Matter protesters blocked rescue efforts.\n",
            "\n",
            "The title of one such article reads: \"'Black Lives Matter' Thugs Block Texas Rescue Efforts to Protest Trump... IMMEDIATELY REGRET IT.\" This article was shared by Freedom Daily and others. Their post included the article and the text \"CHARGE THEM WITH FELONIES! Do you agree??\"\n",
            "<\\content>\n",
            "    \n",
            "Passages:\n",
            " <misinfo>\n",
            "<text>\n",
            "'Black Lives Matter' Thugs Block Texas Rescue Efforts to Protest Trump ... IMMEDIATELY REGRET IT\n",
            "</text>\n",
            "<explanation>\n",
            "There is no evidence that Black Lives Matter protesters intentionally blocked rescue efforts during Hurricane Harvey in 2017. This claim seems to originate from false and misleading reports.\n",
            "</explanation>\n",
            "<wikipedia_sources>\n",
            "https://en.wikipedia.org/wiki/Hurricane_Harvey\n",
            "</wikipedia_sources>\n",
            "</misinfo>"
          ]
        }
      ]
    }
  ]
}