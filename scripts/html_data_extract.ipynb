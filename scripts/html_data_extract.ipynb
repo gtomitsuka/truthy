{
 "cells": [
  {
   "cell_type": "code",
   "execution_count": 24,
   "metadata": {},
   "outputs": [],
   "source": [
    "from bs4 import BeautifulSoup\n",
    "import requests\n",
    "import json"
   ]
  },
  {
   "cell_type": "code",
   "execution_count": 27,
   "metadata": {},
   "outputs": [],
   "source": [
    "def get_content(url):\n",
    "    \"\"\"Extracts content from a news article URL.\n",
    "\n",
    "    Makes a GET request to the article URL to retrieve \n",
    "    the HTML. Parses the HTML with BeautifulSoup and \n",
    "    extracts the article title, text, author and source \n",
    "    from structured data.\n",
    "\n",
    "    Args:\n",
    "        url (str): News article URL\n",
    "\n",
    "    Returns:\n",
    "        tuple: \n",
    "            (title, text, author, source) extracted \n",
    "            from article metadata.\n",
    "    \"\"\"    \n",
    "    r = requests.get(url)\n",
    "\n",
    "    # Create a BeautifulSoup object and specify the parser\n",
    "    soup = BeautifulSoup(r.text, 'html.parser')\n",
    "    \n",
    "    # Main text of the article\n",
    "    article = soup.find(type=\"application/ld+json\")\n",
    "    content = article.string\n",
    "    \n",
    "    # website, title, author, content\n",
    "    title = json.loads(content)['headline']\n",
    "    main_text = json.loads(content)['articleBody']\n",
    "    author = json.loads(content)['author'][0]['name']\n",
    "    source = json.loads(content)['publisher']['name']\n",
    "    \n",
    "    return (title, main_text, author, source)"
   ]
  },
  {
   "cell_type": "code",
   "execution_count": 26,
   "metadata": {},
   "outputs": [
    {
     "data": {
      "text/plain": [
       "('We must stop mask mandates before Biden and Democrats force them on us again. Here’s how we do it',\n",
       " 'Dr. Anthony Fauci, the former chief medical adviser to the president,&nbsp;took to CNN this past weekend to sound the alarm. According to him, COVID cases are spiking, and the American people urgently need to mask up. Is anyone surprised?&nbsp;&nbsp; Fauci and his cabal crave power over everything else. But if I have anything to say about it, they won’t ever have the authority to impose mask mandates or trample our freedoms again.&nbsp; As we learned in the pandemic, public health bureaucrats will force compliance when the people won’t abide their recommendations. With the latest seasonal spike, they are back to their old ways.&nbsp; BIDEN JOKES ABOUT BEING FORCED TO WEAR A MASK: \\'DON\\'T TELL THEM I DIDN\\'T HAVE IT ON\\' Already public health experts and university officials are calling for masks to be reimposed. Businesses and universities are reinstating mask mandates. Even an elementary school is forcibly masking children in response to a few COVID-19 cases. &nbsp;  We all know how this goes. It starts with mask mandates, then social distancing, and then forced lockdowns to \"slow the spread.\" None of it works, but it costs us dearly. It robbed us of our basic freedoms and shattered our national unity amid a crisis. We cannot let it happen again. &nbsp; Democrats insist they have no plans to mandate masking again. So, let’s hold them to their words and end the specter of COVID-19 tyranny for good. Today, I will go to the Senate floor to request unanimous consent on my \"Freedom to Breathe Act.\" That means if no one objects, the bill passes automatically. But if Senate Democrats block my legislation, they must be planning to reinstate mask mandates once again.&nbsp; The bill is very simple. It prohibits government from forcing you to wear a mask on planes, on public transit, or in public schools for the next 15 months. It also blocks taxpayer dollars from being used to enforce a mask mandate.&nbsp; Any reasonable Democrat should be willing to agree with this legislation. It’s narrowly targeted to non-healthcare sectors; hospitals and nursing homes will still be free to issue masking and public health guidelines as they handle seasonal spikes and viral mutations.&nbsp;  CLICK HERE FOR MORE FOX NEWS OPINION The bill also doesn’t prohibit voluntary masking. Individuals will be free to choose whether to wear a mask. &nbsp; Those who oppose the bill may claim to \"follow the science,\" but they’d be wrong. With years of experience and experimental study, the effects of masking are clear. There is no robust high-quality evidence that masking slows the spread of respiratory infections like COVID-19. But it can lead to unhealthy levels of CO2 inhalation, jeopardize early childhood development and exacerbate speech and language disorders. In most cases, a mask is nothing more than a false sense of protection.&nbsp; Many of us remember the widespread rejoicing when the last mask mandates were ended. Airline passengers cheered. School children erupted in joy. Many breathed a sigh of relief — finally unencumbered. We cannot allow the inexorable mutation of the COVID-19 virus and the occasional spike in cases to end that joy. CLICK HERE TO GET THE FOX NEWS APP Americans should be free to live their lives — to travel, to work and go to school — without subjection to needless force. Let’s pass the Freedom to Breathe Act and ensure that they can.&nbsp; COVID may have taken American lives, but it can never again take Americans’ freedom. &nbsp; CLICK HERE TO READ MORE FROM SEN. J.D. VANCE',\n",
       " 'J.D. Vance',\n",
       " 'Fox News')"
      ]
     },
     "execution_count": 26,
     "metadata": {},
     "output_type": "execute_result"
    }
   ],
   "source": [
    "get_content(\"https://www.foxnews.com/opinion/must-stop-mask-mandates-before-biden-democrats-force-them-again-heres-how\")"
   ]
  },
  {
   "cell_type": "code",
   "execution_count": 25,
   "metadata": {},
   "outputs": [
    {
     "data": {
      "text/plain": [
       "('Tesla Cybertruck Torn To Pieces By Hose',\n",
       " 'HOLLISTER, CA—Its stainless steel panels immediately crumpling from the pressure of the stream of water, a Tesla Cybertruck was reportedly torn to pieces Friday after getting sprayed by a hose. As seen in the now-viral video shared across social media platforms, the 7,000-pound electric vehicle splintered into dozens of pieces under the onslaught of the $39.99 hose purchased from Lowe’s, each bead of water from the gardening implement puncturing holes in the truck’s body until the entire vehicle shuddered and collapsed into a pile of broken glass and shrapnel. In a statement, Tesla Motors CEO Elon Musk defended the build quality of the Cybertruck, blaming the damage on the hose being set to “jet” at the time of the incident. At press time, sources confirmed that the remaining, dripping-wet pieces of the vehicle pieces  had burst into flames. \\n\\n\\n',\n",
       " 'The Ellen Show',\n",
       " 'The Onion')"
      ]
     },
     "execution_count": 25,
     "metadata": {},
     "output_type": "execute_result"
    }
   ],
   "source": [
    "get_content(\"https://www.theonion.com/tesla-cybertruck-torn-to-pieces-by-hose-1850990479\")"
   ]
  }
 ],
 "metadata": {
  "kernelspec": {
   "display_name": "Python 3",
   "language": "python",
   "name": "python3"
  },
  "language_info": {
   "codemirror_mode": {
    "name": "ipython",
    "version": 3
   },
   "file_extension": ".py",
   "mimetype": "text/x-python",
   "name": "python",
   "nbconvert_exporter": "python",
   "pygments_lexer": "ipython3",
   "version": "3.10.13"
  }
 },
 "nbformat": 4,
 "nbformat_minor": 2
}
