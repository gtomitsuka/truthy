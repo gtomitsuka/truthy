{
 "cells": [
  {
   "cell_type": "code",
   "execution_count": 24,
   "metadata": {},
   "outputs": [],
   "source": [
    "from bs4 import BeautifulSoup\n",
    "import requests\n",
    "import json"
   ]
  },
  {
   "cell_type": "code",
   "execution_count": 88,
   "metadata": {},
   "outputs": [],
   "source": [
    "def get_content(url):\n",
    "    \"\"\"Extracts content from a news article URL.\n",
    "\n",
    "    Makes a GET request to the article URL to retrieve \n",
    "    the HTML. Parses the HTML with BeautifulSoup and \n",
    "    extracts the article title, text, author and source \n",
    "    from structured data.\n",
    "\n",
    "    Args:\n",
    "        url (str): News article URL\n",
    "\n",
    "    Returns:\n",
    "        tuple: \n",
    "            (title, text, author, source) extracted \n",
    "            from article metadata.\n",
    "    \"\"\"    \n",
    "    r = requests.get(url)\n",
    "\n",
    "    # Create a BeautifulSoup object and specify the parser\n",
    "    soup = BeautifulSoup(r.text, 'html.parser')\n",
    "    \n",
    "    # Main text of the article\n",
    "    article = soup.find(type=\"application/ld+json\")\n",
    "    content = article.string\n",
    "    \n",
    "    # website, title, author, content\n",
    "    source = json.loads(content)['publisher']['name']\n",
    "    title = json.loads(content)['headline']\n",
    "    print(json.loads(content).keys())\n",
    "    \n",
    "    if source in ['Daily Mail', 'The Sun']:\n",
    "        # Title\n",
    "        title = soup.find('title').text\n",
    "        \n",
    "        # Main text of the article\n",
    "        main_text = soup.find_all('p')\n",
    "        main_text = [p.text for p in main_text]\n",
    "        main_text = ' '.join(main_text)\n",
    "    else:\n",
    "        main_text = json.loads(content)['articleBody']\n",
    "    \n",
    "    author = json.loads(content)['author']\n",
    "    if type(author) == dict:\n",
    "        author = author['name']\n",
    "    elif type(author) == list:\n",
    "        author = author[0]['name']\n",
    "    \n",
    "    \n",
    "    \n",
    "    return (title, main_text, author, source)"
   ]
  },
  {
   "cell_type": "markdown",
   "metadata": {},
   "source": [
    "- Fox News\n",
    "- The Onion\n",
    "- Daily Mail\n",
    "- The Sun"
   ]
  },
  {
   "cell_type": "code",
   "execution_count": 89,
   "metadata": {},
   "outputs": [
    {
     "name": "stdout",
     "output_type": "stream",
     "text": [
      "dict_keys(['@context', '@type', 'mainEntityOfPage', 'headline', 'articleBody', 'datePublished', 'dateModified', 'description', 'author', 'publisher', 'image'])\n"
     ]
    },
    {
     "data": {
      "text/plain": [
       "('We must stop mask mandates before Biden and Democrats force them on us again. Here’s how we do it',\n",
       " 'Dr. Anthony Fauci, the former chief medical adviser to the president,&nbsp;took to CNN this past weekend to sound the alarm. According to him, COVID cases are spiking, and the American people urgently need to mask up. Is anyone surprised?&nbsp;&nbsp; Fauci and his cabal crave power over everything else. But if I have anything to say about it, they won’t ever have the authority to impose mask mandates or trample our freedoms again.&nbsp; As we learned in the pandemic, public health bureaucrats will force compliance when the people won’t abide their recommendations. With the latest seasonal spike, they are back to their old ways.&nbsp; BIDEN JOKES ABOUT BEING FORCED TO WEAR A MASK: \\'DON\\'T TELL THEM I DIDN\\'T HAVE IT ON\\' Already public health experts and university officials are calling for masks to be reimposed. Businesses and universities are reinstating mask mandates. Even an elementary school is forcibly masking children in response to a few COVID-19 cases. &nbsp;  We all know how this goes. It starts with mask mandates, then social distancing, and then forced lockdowns to \"slow the spread.\" None of it works, but it costs us dearly. It robbed us of our basic freedoms and shattered our national unity amid a crisis. We cannot let it happen again. &nbsp; Democrats insist they have no plans to mandate masking again. So, let’s hold them to their words and end the specter of COVID-19 tyranny for good. Today, I will go to the Senate floor to request unanimous consent on my \"Freedom to Breathe Act.\" That means if no one objects, the bill passes automatically. But if Senate Democrats block my legislation, they must be planning to reinstate mask mandates once again.&nbsp; The bill is very simple. It prohibits government from forcing you to wear a mask on planes, on public transit, or in public schools for the next 15 months. It also blocks taxpayer dollars from being used to enforce a mask mandate.&nbsp; Any reasonable Democrat should be willing to agree with this legislation. It’s narrowly targeted to non-healthcare sectors; hospitals and nursing homes will still be free to issue masking and public health guidelines as they handle seasonal spikes and viral mutations.&nbsp;  CLICK HERE FOR MORE FOX NEWS OPINION The bill also doesn’t prohibit voluntary masking. Individuals will be free to choose whether to wear a mask. &nbsp; Those who oppose the bill may claim to \"follow the science,\" but they’d be wrong. With years of experience and experimental study, the effects of masking are clear. There is no robust high-quality evidence that masking slows the spread of respiratory infections like COVID-19. But it can lead to unhealthy levels of CO2 inhalation, jeopardize early childhood development and exacerbate speech and language disorders. In most cases, a mask is nothing more than a false sense of protection.&nbsp; Many of us remember the widespread rejoicing when the last mask mandates were ended. Airline passengers cheered. School children erupted in joy. Many breathed a sigh of relief — finally unencumbered. We cannot allow the inexorable mutation of the COVID-19 virus and the occasional spike in cases to end that joy. CLICK HERE TO GET THE FOX NEWS APP Americans should be free to live their lives — to travel, to work and go to school — without subjection to needless force. Let’s pass the Freedom to Breathe Act and ensure that they can.&nbsp; COVID may have taken American lives, but it can never again take Americans’ freedom. &nbsp; CLICK HERE TO READ MORE FROM SEN. J.D. VANCE',\n",
       " 'J.D. Vance',\n",
       " 'Fox News')"
      ]
     },
     "execution_count": 89,
     "metadata": {},
     "output_type": "execute_result"
    }
   ],
   "source": [
    "get_content(\"https://www.foxnews.com/opinion/must-stop-mask-mandates-before-biden-democrats-force-them-again-heres-how\")"
   ]
  },
  {
   "cell_type": "code",
   "execution_count": 90,
   "metadata": {},
   "outputs": [
    {
     "name": "stdout",
     "output_type": "stream",
     "text": [
      "dict_keys(['@type', '@context', 'url', 'author', 'headline', 'description', 'dateline', 'datePublished', 'dateModified', 'mainEntityOfPage', 'image', 'articleBody', 'articleSection', 'keywords', 'publisher', 'video'])\n"
     ]
    },
    {
     "data": {
      "text/plain": [
       "('Tesla Cybertruck Torn To Pieces By Hose',\n",
       " 'HOLLISTER, CA—Its stainless steel panels immediately crumpling from the pressure of the stream of water, a Tesla Cybertruck was reportedly torn to pieces Friday after getting sprayed by a hose. As seen in the now-viral video shared across social media platforms, the 7,000-pound electric vehicle splintered into dozens of pieces under the onslaught of the $39.99 hose purchased from Lowe’s, each bead of water from the gardening implement puncturing holes in the truck’s body until the entire vehicle shuddered and collapsed into a pile of broken glass and shrapnel. In a statement, Tesla Motors CEO Elon Musk defended the build quality of the Cybertruck, blaming the damage on the hose being set to “jet” at the time of the incident. At press time, sources confirmed that the remaining, dripping-wet pieces of the vehicle pieces  had burst into flames. \\n\\n\\n',\n",
       " 'The Ellen Show',\n",
       " 'The Onion')"
      ]
     },
     "execution_count": 90,
     "metadata": {},
     "output_type": "execute_result"
    }
   ],
   "source": [
    "get_content(\"https://www.theonion.com/tesla-cybertruck-torn-to-pieces-by-hose-1850990479\")"
   ]
  },
  {
   "cell_type": "code",
   "execution_count": 91,
   "metadata": {},
   "outputs": [
    {
     "name": "stdout",
     "output_type": "stream",
     "text": [
      "dict_keys(['@context', 'dateModified', 'image', 'author', 'video', 'id', 'mainEntityOfPage', 'name', 'articleBody', 'publisher', 'datePublished', '@type', 'description', 'headline'])\n"
     ]
    },
    {
     "data": {
      "text/plain": [
       "(\"GP with unblemished 40-year career gets 6-month suspension for 'vitriolic' anti-vaxx comments - including one that kids were being 'lined up' to get a Covid vaccine that could 'kill them' | Daily Mail Online\",\n",
       " \"By John Ely Senior Health Reporter For Mailonline    Published:  08:04, 3 November 2023   |  Updated:  10:06, 3 November 2023      130 View  comments  A GP with an unblemished career has been suspended for six months over 'vitriolic' comments she made about Covid and vaccines.\\xa0 Londonderry-based Dr Mary McCloskey claimed the pandemic was a 'figment' of the media and the Government and that jabs don't work and\\xa0were killing people.\\xa0 She also claimed tests and face masks were being used as a psychological weapons to spread fear and experts were 'laughing' at the public via how they named variants of the virus.\\xa0 In one of her most inflammatory statements on Covid vaccines, she claimed parents were being 'told to line up our children to get something that might kill them, to protect them from something that can’t kill them'. Dr McCloskey, who also goes by her middle name Anne, made the comments in a series of videos uploaded online between August and November 2021. Londonderry based GP Dr Mary McCloskey has been suspended for six months for a series of 'vitriolic' comments made in videos shared online that a tribunal said had the potential to undermine public health advice, other medics and discourage people from getting Covid jabs Dr McCloskey previously had an unblemished professional medical record and was previously a GP Principal at the Racecourse Medical Group (pictured) from 1990 to 2018 A Medical Practitioners Tribunal Service (MPTS) hearing held late last month heard how, in a video on August 21, she claimed the dangers of the pandemic had been invented and promoted to the public.\\xa0 'This whole hype has largely been a figment of the media and the government and their lying scientific advisers’ deceptions,' she said.\\xa0 In another she claimed Covid vaccines weren't being used to protect people's health but instead harm them.\\xa0 'Let people see that these injections are killing people; they are harming people; they are not preventing sickness and they are not about health,' she said. The 66-year-old also claimed people who received Covid jabs had done so under duress being 'coerced, bribed or bullied' to have the injection.\\xa0 Lord Stevens's witness statement said: 'The secretary of state for health and social care took the position that in this situation he – rather than, say, the medical profession or the public – should ultimately decide who should live and who should die' Then, in another video\\xa0on August 24, she claimed PCR tests for the virus were a\\xa0'psychological weapon by governments to push people into fear and terror'. In that same video she claimed,\\xa0'masks are there to keep us afraid' and that medical professionals were being 'coerced' to go along with the pandemic. The\\xa0MPTS also noted another video in November that same year where Dr McCloskey claimed experts were 'laughing' at the public via how they named Covid variants.\\xa0 'Well it seems to me with the naming they’re actually having a laugh, like using an anagram of moronic,' she said.\\xa0 'These people are actually laughing at the population, you know.' Her 'anagram' comment is a reference to how the letters of Omicron, at the time the most pressing Covid variant of concern, can be rearranged to spell 'moronic'.\\xa0 This is a coincidence, with the World Health Organization naming Covid variants after the Greek alphabet, starting with Alpha, Beta, Gamma, Delta and so forth.\\xa0 Dr McCloskey also claimed nurses were not working in hospitals but were 'doing TikTok videos and learning songs'.\\xa0 The MPTS found these comments had the potential to undermine public health information, undermine public confidence in the medical profession and discourage people from getting the Covid vaccines. 'There was clear evidence Dr McCloskey’s actions had the potential to undermine public health information and to impact on the health and safety of the public,' she said.\\xa0 While stating Dr\\xa0McCloskey, like any medic, had a right of freedom of expression, they added this was not an 'unfettered right' and in her case she had gone beyond what was unacceptable.\\xa0 They stated: 'The words and opinions stated went beyond legitimate freedom of expression and that Dr McCloskey was making ominous and inflammatory statements and using alarmist language.'\\xa0 The tribunal also took particular note of\\xa0Dr McCloskey's 'moronic' comment as having 'detracted from the gravity of the situation'. 'There was clear evidence that Dr McCloskey’s actions had the potential to undermine public confidence in the medical profession and that by doing this there was a risk to public health and safety,' they said.\\xa0 In their ruling, the\\xa0MPTS also noted how Dr McCloskey had repeatedly introduced herself as a GP in these videos to give her views extra authority.\\xa0 A 2022 study led by academics at Imperial College London suggests almost 20 million lives were saved by Covid vaccines in the first year since countries began rolling out the jabs, the majority in wealthy nations 'Dr McCloskey herself should have known that the audience of these videos and radio interview would perceive her as a doctor; and therefore give more credence to her opinion as a result of this position,' it read.\\xa0\\xa0 They also took note of statements she had made in videos to encourage her audience to share her views. 'I want you to talk to people. I want you to inform yourselves… I have leaflets available. I’m going to get posters made’ she said in one. ‘I want you to share this video,' she said on another occasion.\\xa0 The MPTS also found that she had clearly acted to discourage members of the public from getting a Covid vaccine. Professor Yvonne Doyle, former medical director of the now-defunct Public Health England, was also told to distance herself from the then-Health Secretary, despite the developing crisis In their ruling, the tribunal said\\xa0Dr McCloskey had 'used her judgement poorly'. 'She has not shown any awareness of how her behaviour would adversely influence the public and that she undermined her medical colleagues, when she did not respect their contribution with regards to management of the pandemic,' they said.\\xa0 'Given the vitriolic language she had used, Dr McCloskey was causing alarm and was forcing her own opinion on the general public.' However, in determining what sanction to hand the GP, they highlighted there was no suggestion Dr McCloskey wasn't a competent medic, with no issues being raised during her extensive career.\\xa0 They also noted that given the unique circumstances of the Covid pandemic at the time, there was little risk of repetition of these specific events. But, they added that considering Dr McCloskey has offered no apology or remorse for her actions, there was a continued risk from letting her practise.\\xa0 'A risk of Dr McCloskey expressing views and undertaking actions, which would constitute a risk to public health and safety, remains given her lack of recognition of her serious misconduct,' they wrote.\\xa0 Suspending her for six months, they said a review will be held at the conclusion to determine if\\xa0Dr McCloskey is ready to return to working as a doctor. The tribunal wrote that: 'The onus will be on Dr McCloskey to demonstrate how she has remediated and developed insight into her actions.' Dr McCloskey has 28 days to appeal the ruling.\\xa0 Covid vaccines, like any medical product or drug, carry a risk of side effects, some of them serious. Some Brits have died as a result of the vaccine, though the figure officially stands at less than 100.\\xa0 This includes those who died after being struck down with a blood clot triggered by an extremely rare reaction from AstraZeneca's jab missed during the original vaccine trials.\\xa0 However, anti-vaxxer claims that thousands have died from the jabs are way off the mark, leading experts say. Covid vaccines, which have been rolled out in their millions, have repeatedly been proven to be, overall, both safe and effective in preventing people from becoming severely ill with the virus. They have also been credited with stopping the endless lockdowns that crippled the nation.\\xa0 Globally, Covid vaccines have been\\xa0credited with saving almost 20million lives during the first year of their existence. Published by Associated Newspapers Ltd Part of the Daily Mail, The Mail on Sunday & Metro Media Group\",\n",
       " 'John Ely Senior',\n",
       " 'Daily Mail')"
      ]
     },
     "execution_count": 91,
     "metadata": {},
     "output_type": "execute_result"
    }
   ],
   "source": [
    "get_content(\"https://www.dailymail.co.uk/health/article-12702971/GP-unblemished-40-year-career-gets-6-month-suspension-vitriolic-anti-vaxx-comments-including-one-kids-lined-Covid-vaccine-kill-them.html\")"
   ]
  },
  {
   "cell_type": "code",
   "execution_count": 92,
   "metadata": {},
   "outputs": [
    {
     "name": "stdout",
     "output_type": "stream",
     "text": [
      "dict_keys(['@context', '@type', 'url', 'publisher', 'headline', 'image', 'datePublished', 'dateModified', 'keywords', 'articleSection', 'mainEntityOfPage', 'author'])\n"
     ]
    },
    {
     "data": {
      "text/plain": [
       "('Telling shoppers that eating meat is as a bad as smoking and will bring on the apocalypse is banger out of order | The Sun',\n",
       " 'IT’S an incredibly boring conversation but one I bet, like me, you’ve had many times. And it goes like this. Vegetarian: “Oh, you’re still eating meat? Well, let me ask you this: Do you know how terrible the living conditions are for that animal? “And would you kill it and then cook it yourself? I bet you wouldn’t.” Me: “No. Of course I bloody wouldn’t. Do you think I have the time to slop through the mud, wrestle a pig to the ground, slit its throat and then cut it into chunks, cure it for FIVE DAYS, dry it for four hours then slice it up, cook it and whack it between two sheets of bread?” And yes, I’d probably add, I do know we treat animals badly when it comes to preparing them to be, er, murdered. Like the majority of people who mostly breathe through their nose, I am not naïve enough to think the chicken I have purchased was kept in a five-star hotel and given a daily deep-feather massage. I know what I’m getting into here so let others do the hard work in sourcing and preparing animals ready for me to scoff. But now there could be yet another emotional blackmail hurdle to leap over before we tuck into our turkeys — this time at the point of purchase. According to woke boffins at Durham University, we need to be reminded how terrible meat is with cigarette-style picture warnings on packaging. And the horrors depicted should not just be limited to how unhealthy meat is but — of course — must also lecture us on how bad for the environment it is, with images straight out of The Day After Tomorrow. “THE AMAZON IS DYING BECAUSE OF YOUR QUARTER-POUNDER BURGER, YOU SELFISH B*****D!” Oh, stick a sausage in it. This nanny-state nonsense is not just patronising, it is also cynical scaremongering. Demonising meat eating by lumping it in with cigarette smoking suggests it is inherently bad for you. This claim is patently true for cigarettes.  Good luck arguing that inhaling fumes from tobacco leaves has any health benefits. Indeed, the cost to the NHS of healthcare for smokers runs at around £2.5billion a year, two per cent of its entire budget. But for meat it is not so simple. Eating TOO MUCH red meat is bad for you, sure, and studies do suggest that eating vast quantities of it — especially the highly processed variety (a.k.a. the good stuff) — is responsible for 18 per cent of all cases of bowel cancer. But eaten sensibly, protein-packed meat has many health benefits. The NHS’s own website tells us this: “Red meat provides us with iron, zinc and B vitamins. “Meat is one of the main sources of vitamin B12 in the diet.” Vitamin B12, just so we’re all in the loop here, helps the body to make red blood cells, which if I recall my GCSE science classes correctly, have the important task of keeping us alive. But none of this really matters, of course, to all those nanny-state meddlers, so many of whom are hopelessly in thrall to the Greta Thunbergs of this world and to the tedious vegan zealots. They want us, the 72-per-cent majority who eat meat, to feel bad about our choices in life because they think we’re too busy selfishly stuffing steaks into our mouths to know the effect they have on poor little creatures and the planet. They think we’re stupid and have zero self-control. They don’t make these choices, so neither should we. But here’s the thing. We DO know that living on Earth comes with numerous side-effects and that a poor diet will make us ill. But we want the freedom to decide how we will mitigate this in our own lives. We do not want to be told off for enjoying the foods we love, that we can legally buy with our heavily taxed wages. If the Government has any sense, it should stick this idea in the meat grinder where it belongs. DELIGHTED to hear that old rascal Boris Johnson has been signed up by GB News as a “presenter, programme maker and commentator”. What jolly japes that promises. Some detail has been announced of what exactly this will involve but thanks to my well-placed insider I have been given a sneak preview of his entire schedule. Here’s how it’s looking so far – and yes, some of it may sound familiar\\u2009.\\u2009.\\u2009.\\u20097pm: Countdown Pretentious word game in which host Boris gives himself nine different letters which he must form into a baffling word or phrase that has not been uttered since Queen Victoria was on the throne. 8pm: Great British Bake Off Pompous, Brexit-themed baking show, presented by “pro-cake” Boris, in which each week he challenges himself to bake a cake and then eat it all himself. 9pm: Would I Lie To You? Smug panel quiz, hosted by Boris, in which he asks himself a variety of difficult questions about his time as PM, answering them in such an incomprehensible way that even he can’t understand his answers. 10pm: Who Do You Think You Are? Intrusive, 28-part genealogy show, fronted by Boris, in which each week a member of the public with a shock of blond hair and a suspect family tree discovers he is actually their dad. SO, now even nipples can be fake.  Kim Kardashian – of course – has launched a new Ultimate Nipple Bra for her Skims range, with built-in nips so ladies can always look as if there are, ahem, freezing their t*ts off. The advert for this innovation is so utterly ridiculous it may in fact be a load of cobblers.  “Some days are hard but these nipples are harder,” drools Miss K in what looks like something from Carrott’s Commercial Breakdown. But true or, er, false I can’t help noticing these enhanced articles of underwear are only ever aimed at women. When is Skims bringing out, I dunno, padded boxer shorts? Asking for a friend. SAY what you like about our hands-off relation- ship with the EU (actually, please don’t) but last week I discovered one surprising “benefit”. During a ferry trip from Dover to Calais my kids turned on their treat-seeking missile function and were quick to find something to waste my hard-earned coins on. So I stood at the “win a lolly” slot machine, which offered me the choice of inserting either a £1 or two euro coin. As I write, two euros works out at £1.75, so one hell of a penalty for our euro-loving neighbours. Naturally, I inserted a good old English nugget and was then duly rewarded with\\u2009.\\u2009.\\u2009.\\u2009a single Chupa Chups, worth a princely 25p. So even with our go-it-alone discount I guess we Brits can still be suckers. THE only thing worse than supporting Manchester United right now is having to get there on an Avanti train. Me and my lad made our regular pilgrimage on the World’s Worst Train Operator last weekend for the demolition derby. And the return journey turned out to be an even bigger p***-take than the 3-0 drubbing at the hands of Erling Haaland and his Man City backing singers. Not only were the carriages so packed they’d shock a New Delhi commuter, but ten minutes into the journey some pillock decided to make the following announcement. “Ladies and gentlemen, tonight’s train is very crowded – it might be a nice idea to offer your seat to someone for part of the journey so you all get to sit down.” You can imagine how well that was received by the fed-up throng of Red Devil fans. Maybe a better idea would be to put some more trains on, perhaps driven by all those greedy train drivers on more than £65k a year who keep holding us all to ransom\\u2009.\\u2009.\\u2009.\\u2009and winning. POOR old Katie Price, refused a ride on a rollercoaster because her ludicrous knockers wouldn’t fit under the safety harness. She could do with the button I have on the passenger seat of my car: “Disable Airbags”. ©News Group Newspapers Limited in England No. 679215 Registered office: 1 London Bridge Street, London, SE1 9GF. \"The Sun\", \"Sun\", \"Sun Online\" are registered trademarks or trade names of News Group Newspapers Limited. This service is provided on News Group Newspapers\\' Limited\\'s Standard Terms and Conditions in accordance with our Privacy & Cookie Policy. To inquire about a licence to reproduce material, visit our Syndication site. View our online Press Pack. For other inquiries, Contact Us. To see all content on The Sun, please use the Site Map. The Sun website is regulated by the Independent Press Standards Organisation (IPSO) Our journalists strive for accuracy but on occasion we make mistakes. For further details of our complaints policy and to make a complaint please click this link: thesun.co.uk/editorial-complaints/',\n",
       " 'Colin Robertson',\n",
       " 'The Sun')"
      ]
     },
     "execution_count": 92,
     "metadata": {},
     "output_type": "execute_result"
    }
   ],
   "source": [
    "get_content(\"https://www.thesun.co.uk/news/24602546/meat-bad-as-smoking-colin-robertson/\")"
   ]
  },
  {
   "cell_type": "code",
   "execution_count": null,
   "metadata": {},
   "outputs": [],
   "source": []
  }
 ],
 "metadata": {
  "kernelspec": {
   "display_name": "Python 3",
   "language": "python",
   "name": "python3"
  },
  "language_info": {
   "codemirror_mode": {
    "name": "ipython",
    "version": 3
   },
   "file_extension": ".py",
   "mimetype": "text/x-python",
   "name": "python",
   "nbconvert_exporter": "python",
   "pygments_lexer": "ipython3",
   "version": "3.10.13"
  }
 },
 "nbformat": 4,
 "nbformat_minor": 2
}
