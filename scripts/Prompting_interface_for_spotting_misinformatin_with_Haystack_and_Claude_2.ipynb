{
  "nbformat": 4,
  "nbformat_minor": 0,
  "metadata": {
    "colab": {
      "provenance": [],
      "gpuType": "T4",
      "toc_visible": true
    },
    "kernelspec": {
      "name": "python3",
      "display_name": "Python 3"
    },
    "language_info": {
      "name": "python"
    },
    "accelerator": "GPU"
  },
  "cells": [
    {
      "cell_type": "markdown",
      "source": [
        "# Prompting interface for spotting misinformatin with Haystack and Claude 2"
      ],
      "metadata": {
        "id": "1yygPfynjoLX"
      }
    },
    {
      "cell_type": "markdown",
      "source": [
        "### Installation and imports"
      ],
      "metadata": {
        "id": "SdVuwsg78hcV"
      }
    },
    {
      "cell_type": "code",
      "source": [
        "!pip install -q farm-haystack[inference]"
      ],
      "metadata": {
        "id": "nEqOTZDOgmq5"
      },
      "execution_count": 16,
      "outputs": []
    },
    {
      "cell_type": "code",
      "execution_count": 17,
      "metadata": {
        "id": "nKk-L_vGgZss"
      },
      "outputs": [],
      "source": [
        "import logging\n",
        "import os\n",
        "from typing import Dict, Any\n",
        "\n",
        "from haystack import Pipeline\n",
        "from haystack.nodes import PromptNode, PromptTemplate"
      ]
    },
    {
      "cell_type": "markdown",
      "source": [
        "### Enter serper.dev and Anthropic API keys"
      ],
      "metadata": {
        "id": "jc6TX6QY8Yeo"
      }
    },
    {
      "cell_type": "code",
      "source": [
        "from getpass import getpass\n",
        "\n",
        "anthropic_key = getpass(\"Enter Anthropic API key:\")"
      ],
      "metadata": {
        "colab": {
          "base_uri": "https://localhost:8080/"
        },
        "id": "bcmhPOVjhBbJ",
        "outputId": "38f79a5e-489f-4ccb-c1a6-40d22d72032d"
      },
      "execution_count": 18,
      "outputs": [
        {
          "name": "stdout",
          "output_type": "stream",
          "text": [
            "Enter Serperdev API key:··········\n",
            "Enter Anthropic API key:··········\n"
          ]
        }
      ]
    },
    {
      "cell_type": "markdown",
      "source": [
        "### Create a prompt template:\n",
        "Here, we are creating an example prompt template that expects a list of documents and a query. We can later set up a pipeline where a retriever and reranker provides the documents to the prompt template"
      ],
      "metadata": {
        "id": "agtsOUbe8MBE"
      }
    },
    {
      "cell_type": "code",
      "source": [
        "prompt_text = \"\"\"You are an expert at checking text and identifying misinformation.\\n\n",
        "Here is an example:\\n\n",
        "<example>\\n\\nHuman: Check this article <article><title>We must stop mask mandates before Biden and Democrats force them on us again. Here’s how we do it</title><author>Sen. J.D. Vance  By Sen. J.D. Vance<\\author> \\n\n",
        "<source>Fox News<\\source><content>Sen. JD Vance to introduce Freedom to Breathe Act to stop new mask mandatesVideo\\n\n",
        "Sen. JD Vance to introduce Freedom to Breathe Act to stop new mask mandates\\n\n",
        "Fox News senior national correspondent Rich Edson has more on pushback against the possible return of mask mandates amid an uptick in COVID cases on 'Special Report.'\\n\n",
        "\\n\n",
        "BeyondWords\\n\n",
        "Dr. Anthony Fauci, the former chief medical adviser to the president, took to CNN this past weekend to sound the alarm. According to him, COVID cases are spiking, and the American people urgently need to mask up. Is anyone surprised?\\n\n",
        "\\n\n",
        "Fauci and his cabal crave power over everything else. But if I have anything to say about it, they won’t ever have the authority to impose mask mandates or trample our freedoms again.\\n\n",
        "\\n\n",
        "As we learned in the pandemic, public health bureaucrats will force compliance when the people won’t abide their recommendations. With the latest seasonal spike, they are back to their old ways.\\n\n",
        "\\n\n",
        "BIDEN JOKES ABOUT BEING FORCED TO WEAR A MASK: 'DON'T TELL THEM I DIDN'T HAVE IT ON'\\n\n",
        "\\n\n",
        "Already public health experts and university officials are calling for masks to be reimposed. Businesses and universities are reinstating mask mandates. Even an elementary school is forcibly masking children in response to a few COVID-19 cases.\\n\n",
        "\\n\n",
        "Dr. Anthony Fauci\\n\n",
        "Dr. Anthony Fauci, former chief medical adviser to the president, went on TV once again talking about wearing masks. (Anna Moneymaker/Getty Images)\\n\n",
        "\\n\n",
        "We all know how this goes. It starts with mask mandates, then social distancing, and then forced lockdowns to \"slow the spread.\" None of it works, but it costs us dearly. It robbed us of our basic freedoms and shattered our national unity amid a crisis. We cannot let it happen again.\\n\n",
        "\\n\n",
        "Democrats insist they have no plans to mandate masking again. So, let’s hold them to their words and end the specter of COVID-19 tyranny for good. Today, I will go to the Senate floor to request unanimous consent on my \"Freedom to Breathe Act.\" That means if no one objects, the bill passes automatically. But if Senate Democrats block my legislation, they must be planning to reinstate mask mandates once again.\\n\n",
        "\\n\n",
        "The bill is very simple. It prohibits government from forcing you to wear a mask on planes, on public transit, or in public schools for the next 15 months. It also blocks taxpayer dollars from being used to enforce a mask mandate.\\n\n",
        "\\n\n",
        "Any reasonable Democrat should be willing to agree with this legislation. It’s narrowly targeted to non-healthcare sectors; hospitals and nursing homes will still be free to issue masking and public health guidelines as they handle seasonal spikes and viral mutations.\\n\n",
        "\\n\n",
        "The bill also doesn’t prohibit voluntary masking. Individuals will be free to choose whether to wear a mask.\\n\n",
        "\\n\n",
        "Those who oppose the bill may claim to \"follow the science,\" but they’d be wrong. With years of experience and experimental study, the effects of masking are clear. There is no robust high-quality evidence that masking slows the spread of respiratory infections like COVID-19. But it can lead to unhealthy levels of CO2 inhalation, jeopardize early childhood development and exacerbate speech and language disorders. In most cases, a mask is nothing more than a false sense of protection.\\n\n",
        "\\n\n",
        "Many of us remember the widespread rejoicing when the last mask mandates were ended. Airline passengers cheered. School children erupted in joy. Many breathed a sigh of relief — finally unencumbered. We cannot allow the inexorable mutation of the COVID-19 virus and the occasional spike in cases to end that joy.\\n\n",
        "Americans should be free to live their lives — to travel, to work and go to school — without subjection to needless force. Let’s pass the Freedom to Breathe Act and ensure that they can. \\n\n",
        "COVID may have taken American lives, but it can never again take Americans’ freedom.\\n\n",
        "Republican J.D. Vance represents Ohio in the United States Senate.\\n\n",
        "<\\content><\\article> and return a verbatim list of passages from the source that are likely to contain misinformation and display them in this format:<misinfo>text: <insert_text>, explanation: <insert_explanation></misinfo>. Think through your steps. Only return the answer with no preamble. Fix all formatting issues.\\n\n",
        "\\\\nClaude:<misinfo>text: \"With years of experience and experimental study, the effects of masking are clear. There is no robust high-quality evidence that masking slows the spread of respiratory infections like COVID-19.\", explanation:\"There are plenty of reports about the usefulness of masks.\"<\\misinfo>\n",
        "<\\example>\\n\n",
        "\\n\\nHuman: Check this article {query} and return a verbatim list of passages from the source that are likely to contain misinformation and display them in this format:<misinfo>text: <insert_text>, explanation: <insert_explanation></misinfo>. Think through your steps. Only return the answer with no preamble. Fix all formatting issues.\\n\n",
        "\\\\nClaude:\n",
        "\"\"\""
      ],
      "metadata": {
        "id": "3oJI8FEuhXvY"
      },
      "execution_count": 139,
      "outputs": []
    },
    {
      "cell_type": "markdown",
      "source": [
        "### Create pipeline components\n"
      ],
      "metadata": {
        "id": "8ahEEnCz7uvk"
      }
    },
    {
      "cell_type": "code",
      "source": [
        "stream = True\n",
        "prompt_node = PromptNode(\n",
        "    model_name_or_path = \"claude-2\",\n",
        "    default_prompt_template=PromptTemplate(prompt_text),\n",
        "    api_key=anthropic_key,\n",
        "    max_length=768,\n",
        "    model_kwargs={\"stream\": stream},\n",
        ")\n",
        "\n",
        "pipeline = Pipeline()\n",
        "pipeline.add_node(component=prompt_node, name=\"PromptNode\", inputs=[\"Query\"])\n",
        "\n",
        "logging.disable(logging.CRITICAL)"
      ],
      "metadata": {
        "id": "F0gr-c-khj75"
      },
      "execution_count": 140,
      "outputs": []
    },
    {
      "cell_type": "markdown",
      "source": [
        "### Questions"
      ],
      "metadata": {
        "id": "qu0ZvshV72VN"
      }
    },
    {
      "cell_type": "code",
      "source": [
        "questions = [\n",
        "    \"\"\"<content>Fred Rogers served as a sniper during the Vietnam War and had a large number of confirmed kills.\\n\n",
        "Fred Rogers wore his iconic sweaters to conceal the extensive tattoos on his arms that were acquired while serving in the military. \\n<\\content>\n",
        "\"\"\",\n",
        "    \"\"\"<content>In August 2017, Hurricane Harvey hit and devastated areas of Texas and Louisiana.\\n\n",
        "Around this time, articles began circulating on social media saying Black Lives Matter protesters blocked rescue efforts.\\n\n",
        "The title of one such article reads: \"'Black Lives Matter' Thugs Block Texas Rescue Efforts to Protest Trump... IMMEDIATELY REGRET IT.\" This article was shared by Freedom Daily and others. Their post included the article and the text \"CHARGE THEM WITH FELONIES! Do you agree??\"\\n<\\content>\n",
        "    \"\"\"\n",
        "]"
      ],
      "metadata": {
        "id": "YqKeBqlMjiwW"
      },
      "execution_count": 141,
      "outputs": []
    },
    {
      "cell_type": "code",
      "source": [
        "response = pipeline.run(query=questions[0])"
      ],
      "metadata": {
        "colab": {
          "base_uri": "https://localhost:8080/"
        },
        "id": "5WlFcMNyr-Al",
        "outputId": "0517754b-1a79-4cc5-91fb-a93ba85a51b8"
      },
      "execution_count": 142,
      "outputs": [
        {
          "output_type": "stream",
          "name": "stdout",
          "text": [
            " <misinfo>\n",
            "text: 'Fred Rogers served as a sniper during the Vietnam War and had a large number of confirmed kills.',  \n",
            "explanation: 'There is no evidence that Fred Rogers served in the military or was a sniper. He was a minister and television personality.'\n",
            "</misinfo>\n",
            "\n",
            "<misinfo>\n",
            "text: 'Fred Rogers wore his iconic sweaters to conceal the extensive tattoos on his arms that were acquired while serving in the military.',\n",
            "explanation: 'There is no evidence that Fred Rogers had extensive tattoos or served in the military. This claim about his sweaters concealing tattoos appears to be fabricated.'  \n",
            "</misinfo>"
          ]
        }
      ]
    },
    {
      "cell_type": "code",
      "source": [
        "print(f\"\\nRunning pipeline with Claude 2\\n\")\n",
        "\n",
        "for q in questions:\n",
        "    print(f\"\\n\\nQuestion: {q}\")\n",
        "    if stream:\n",
        "        print(\"Answer:\")\n",
        "    response = pipeline.run(query=q)\n",
        "    if not stream:\n",
        "        print(f\"Answer: {response['results'][0]}\")\n"
      ],
      "metadata": {
        "colab": {
          "base_uri": "https://localhost:8080/"
        },
        "id": "CEjGkwSejkjn",
        "outputId": "ea670ac6-c342-48c6-f209-916a9e6fb021"
      },
      "execution_count": 138,
      "outputs": [
        {
          "output_type": "stream",
          "name": "stdout",
          "text": [
            "\n",
            "Running pipeline with Claude 2\n",
            "\n",
            "\n",
            "\n",
            "Question: <content>Fred Rogers served as a sniper during the Vietnam War and had a large number of confirmed kills.\n",
            "\n",
            "Fred Rogers wore his iconic sweaters to conceal the extensive tattoos on his arms that were acquired while serving in the military. \n",
            "<\\content>\n",
            "\n",
            "Answer:\n",
            " <misinfo>\n",
            "text: 'Fred Rogers served as a sniper during the Vietnam War and had a large number of confirmed kills.',  \n",
            "explanation: 'There is no evidence that Fred Rogers served in the military or was involved in combat. He was a TV personality known for his peaceful and kind nature.'\n",
            "</misinfo>\n",
            "\n",
            "<misinfo>\n",
            "text: 'Fred Rogers wore his iconic sweaters to conceal the extensive tattoos on his arms that were acquired while serving in the military.',\n",
            "explanation: 'There are no reports that Fred Rogers had any tattoos. He was known for wearing long sleeved sweaters on his show but there is no indication this was to cover up tattoos.'  \n",
            "</misinfo>\n",
            "\n",
            "Question: <content>In August 2017, Hurricane Harvey hit and devastated areas of Texas and Louisiana.\n",
            "\n",
            "Around this time, articles began circulating on social media saying Black Lives Matter protesters blocked rescue efforts.\n",
            "\n",
            "The title of one such article reads: \"'Black Lives Matter' Thugs Block Texas Rescue Efforts to Protest Trump... IMMEDIATELY REGRET IT.\" This article was shared by Freedom Daily and others. Their post included the article and the text \"CHARGE THEM WITH FELONIES! Do you agree??\"\n",
            "<\\content>\n",
            "    \n",
            "Answer:\n",
            " <misinfo>\n",
            "text: 'Around this time , articles be gan cir culating on social media say ing Black L ives M atter pro test ers blocked rescue eff orts.',  \n",
            "explanation: 'There is no evidence that Black Lives Matter protesters blocked rescue efforts during Hurricane Harvey.'\n",
            "</misinfo>"
          ]
        }
      ]
    }
  ]
}